{
 "cells": [
  {
   "cell_type": "code",
   "execution_count": null,
   "id": "be86f656-11d0-40ec-a51f-7964bc569ff4",
   "metadata": {},
   "outputs": [],
   "source": [
    "import pandas as pd\n",
    "import numpy as np\n",
    "from pathlib import Path\n",
    "from IPython import get_ipython\n",
    "import streamlit as st\n",
    "# slider\n",
    "score = st.slider('Your score is...', 0, 100, 1)\n",
    "st.text('Score: {}'.format(score))\n",
    "\n",
    "# 날짜 및 시간 slider\n",
    "from datetime import time\n",
    "\n",
    "start_time, end_time = st.slider(\n",
    "    'Working time is...',\n",
    "    min_value=time(0), max_value=time(23),\n",
    "    value=(time(8), time(18)),\n",
    "    format='HH:mm'\n",
    ")\n",
    "st.text('Working time: {}, {}'.format(start_time, end_time))"
   ]
  }
 ],
 "metadata": {
  "kernelspec": {
   "display_name": "Python 3 (ipykernel)",
   "language": "python",
   "name": "python3"
  },
  "language_info": {
   "codemirror_mode": {
    "name": "ipython",
    "version": 3
   },
   "file_extension": ".py",
   "mimetype": "text/x-python",
   "name": "python",
   "nbconvert_exporter": "python",
   "pygments_lexer": "ipython3",
   "version": "3.12.4"
  }
 },
 "nbformat": 4,
 "nbformat_minor": 5
}
