{
 "cells": [
  {
   "cell_type": "code",
   "execution_count": null,
   "id": "d7b49cfd-4afe-4e2b-ad1f-810ae9c756d9",
   "metadata": {},
   "outputs": [],
   "source": [
    "import pandas as pd\n",
    "import numpy as np\n",
    "from pathlib import Path\n",
    "from IPython import get_ipython\n",
    "import streamlit as st\n",
    "\n",
    "# selectbox\n",
    "option = st.selectbox(\n",
    "    label='your selection is',\n",
    "    options=['Car', 'Airplane', 'Train', 'Ship'],\n",
    ")\n",
    "st.text('you selected: {}'.format(option))\n",
    "\n",
    "# selectbox placeholder 활용\n",
    "option = st.selectbox(\n",
    "    label='your selection is',\n",
    "    options=['Car', 'Airplane', 'Train', 'Ship'],\n",
    "    index=None,\n",
    "    placeholder='select transportation'\n",
    ")\n",
    "st.text('you selected: {}'.format(option))\n",
    "\n",
    "# radio\n",
    "option = st.radio(\n",
    "    'What is your favorite movie genre',\n",
    "    [\"Comedy\", \"Drama\", \"Documentary\"],\n",
    "    captions = ['Laugh out loud', 'Get the popcorn', 'Never stop learning']\n",
    ")\n",
    "\n",
    "if option:\n",
    "    st.text('You Selected {}'.format(option))\n",
    "    \n",
    "# multiselect\n",
    "option = st.multiselect(\n",
    "    label='your selection is',\n",
    "    options=['Car', 'Airplane', 'Train', 'Ship'],\n",
    "    placeholder='select transportation'\n",
    ")\n",
    "st.text('you selected: {}'.format(option))"
   ]
  }
 ],
 "metadata": {
  "kernelspec": {
   "display_name": "Python 3 (ipykernel)",
   "language": "python",
   "name": "python3"
  },
  "language_info": {
   "codemirror_mode": {
    "name": "ipython",
    "version": 3
   },
   "file_extension": ".py",
   "mimetype": "text/x-python",
   "name": "python",
   "nbconvert_exporter": "python",
   "pygments_lexer": "ipython3",
   "version": "3.12.4"
  }
 },
 "nbformat": 4,
 "nbformat_minor": 5
}
