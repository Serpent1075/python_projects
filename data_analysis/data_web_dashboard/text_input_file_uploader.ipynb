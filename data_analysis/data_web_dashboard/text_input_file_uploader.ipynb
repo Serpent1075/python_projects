{
 "cells": [
  {
   "cell_type": "code",
   "execution_count": null,
   "id": "217d4e73-27ef-4a4b-8cff-b31c1d9f348a",
   "metadata": {},
   "outputs": [],
   "source": [
    "import pandas as pd\n",
    "import numpy as np\n",
    "from pathlib import Path\n",
    "from IPython import get_ipython\n",
    "import streamlit as st\n",
    "\n",
    "# text input\n",
    "string = st.text_input(\n",
    "    'Movie title', placeholder='write down the title of your favorite movie'\n",
    ")\n",
    "\n",
    "if string:\n",
    "    st.text('Your answer is '+string)\n",
    "    \n",
    "# password 인자 활용\n",
    "string = st.text_input(\n",
    "    'Movie title',\n",
    "    placeholder='write down the title of your favorite movie',\n",
    "    type='password'\n",
    ")\n",
    "\n",
    "if string:\n",
    "    st.text('Your answer is '+string)\n",
    "\n",
    "# file uploader\n",
    "file = st.file_uploader(\n",
    "    'Choose a file', type='csv', accept_multiple_files=False\n",
    ")\n",
    "if file is not None:\n",
    "    df = pd.read_csv(file)\n",
    "    st.write(df)"
   ]
  }
 ],
 "metadata": {
  "kernelspec": {
   "display_name": "Python 3 (ipykernel)",
   "language": "python",
   "name": "python3"
  },
  "language_info": {
   "codemirror_mode": {
    "name": "ipython",
    "version": 3
   },
   "file_extension": ".py",
   "mimetype": "text/x-python",
   "name": "python",
   "nbconvert_exporter": "python",
   "pygments_lexer": "ipython3",
   "version": "3.12.4"
  }
 },
 "nbformat": 4,
 "nbformat_minor": 5
}
