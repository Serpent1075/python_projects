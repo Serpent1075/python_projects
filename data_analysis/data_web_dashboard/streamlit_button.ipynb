{
 "cells": [
  {
   "cell_type": "code",
   "execution_count": null,
   "id": "d717097d-1e44-4d6a-a1cf-639f0564f0d0",
   "metadata": {},
   "outputs": [],
   "source": [
    "import pandas as pd\n",
    "import numpy as np\n",
    "from pathlib import Path\n",
    "from IPython import get_ipython\n",
    "import streamlit as st\n",
    "# button\n",
    "def button_write():\n",
    "    st.write('button activated')\n",
    "\n",
    "# 클릭 시 if문을 실행\n",
    "st.button('Reset', type='primary', key=\"3\")\n",
    "if st.button('activate', key=\"4\"):\n",
    "    st.write('button activated')\n",
    "    \n",
    "# checkbox\n",
    "active = st.checkbox('I agree', key=\"1\")\n",
    "\n",
    "if active:\n",
    "    st.text('Great!')\n",
    "    \n",
    "# checkbox on_change 인자 활용\n",
    "def checkbox_write():\n",
    "    st.write('Great!')\n",
    "\n",
    "st.checkbox('I agree', on_change=checkbox_write)\n",
    "\n",
    "# toggle\n",
    "toggle = st.toggle(\n",
    "    'Turn on the switch!', value=True\n",
    ")\n",
    "\n",
    "if toggle:\n",
    "    st.text('Switch is turned on!')\n",
    "else:\n",
    "    st.text('Switch is turned off!')"
   ]
  }
 ],
 "metadata": {
  "kernelspec": {
   "display_name": "Python 3 (ipykernel)",
   "language": "python",
   "name": "python3"
  },
  "language_info": {
   "codemirror_mode": {
    "name": "ipython",
    "version": 3
   },
   "file_extension": ".py",
   "mimetype": "text/x-python",
   "name": "python",
   "nbconvert_exporter": "python",
   "pygments_lexer": "ipython3",
   "version": "3.12.4"
  }
 },
 "nbformat": 4,
 "nbformat_minor": 5
}
