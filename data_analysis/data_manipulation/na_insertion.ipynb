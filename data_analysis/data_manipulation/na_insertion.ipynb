{
 "cells": [
  {
   "cell_type": "code",
   "execution_count": 12,
   "id": "53a9513f-598d-4268-95df-d7668d9028f2",
   "metadata": {},
   "outputs": [
    {
     "data": {
      "text/plain": [
       "0    1.0\n",
       "1    2.0\n",
       "2    3.0\n",
       "3    NaN\n",
       "4    NaN\n",
       "5    NaN\n",
       "6    7.0\n",
       "7    8.0\n",
       "8    NaN\n",
       "9    NaN\n",
       "dtype: float64"
      ]
     },
     "execution_count": 12,
     "metadata": {},
     "output_type": "execute_result"
    }
   ],
   "source": [
    "import pandas as pd\n",
    "import numpy as np\n",
    "\n",
    "s = pd.Series([1, 2, 3, np.nan, np.nan, np.nan, 7, 8, np.nan, np.nan])\n",
    "s"
   ]
  },
  {
   "cell_type": "code",
   "execution_count": 13,
   "id": "fea15f2f-97f6-49f2-9016-2eb4daa8300c",
   "metadata": {},
   "outputs": [
    {
     "data": {
      "text/plain": [
       "0     1.0\n",
       "1     2.0\n",
       "2     3.0\n",
       "3     4.0\n",
       "4     5.0\n",
       "5     NaN\n",
       "6     7.0\n",
       "7     8.0\n",
       "8     9.0\n",
       "9    10.0\n",
       "dtype: float64"
      ]
     },
     "execution_count": 13,
     "metadata": {},
     "output_type": "execute_result"
    }
   ],
   "source": [
    "# interpolation 메서드를 이용한 결측치 내삽\n",
    "# 용도: 결측치 앞뒤 값을 직선으로 연결하여 추정값을 계산합니다.\n",
    "# 장점: 간단하고 빠르게 적용 가능합니다.\n",
    "# 단점: 데이터 분포가 비선형이거나 급격한 변화가 있는 경우 부적합할 수 있습니다.\n",
    "# 적용 예시: 시간에 따라 일정하게 변화하는 센서 데이터 등\n",
    "s.interpolate(\n",
    "    method=\"spline\", order=1, limit_direction=\"forward\", limit=2\n",
    ")"
   ]
  },
  {
   "cell_type": "code",
   "execution_count": 8,
   "id": "bea3e4b8-5151-4006-9862-4f753973ff07",
   "metadata": {},
   "outputs": [
    {
     "data": {
      "text/plain": [
       "0    1.0\n",
       "1    2.0\n",
       "2    3.0\n",
       "3    4.0\n",
       "4    5.0\n",
       "5    6.0\n",
       "6    7.0\n",
       "7    NaN\n",
       "8    NaN\n",
       "dtype: float64"
      ]
     },
     "execution_count": 8,
     "metadata": {},
     "output_type": "execute_result"
    }
   ],
   "source": [
    "# interpolation 메서드를 이용한 결측치 삽\n",
    "# 용도: 구간별로 다항식 곡선을 피팅하고, 곡선들이 부드럽게 연결되도록 하여 추정값을 계산합니다.\n",
    "# 장점: 곡선의 급격한 변화를 완화하며, 자연스러운 연결을 통해 부드러운 추정값을 생성합니다.\n",
    "# 단점: 계산 복잡도가 높고, 매듭점(knot) 설정에 주의해야 합니다.\n",
    "# 적용 예시: 부드러운 곡선 형태를 갖는 데이터, 이미지 처리 등\n",
    "s.interpolate(\n",
    "    method=\"slinear\", limit_direction=\"forward\", limit=2\n",
    ")"
   ]
  },
  {
   "cell_type": "code",
   "execution_count": 15,
   "id": "09f07925-a867-441b-8d24-a9f119d6b21e",
   "metadata": {},
   "outputs": [
    {
     "data": {
      "text/plain": [
       "0    1.0\n",
       "1    2.0\n",
       "2    3.0\n",
       "3    4.0\n",
       "4    5.0\n",
       "5    NaN\n",
       "6    7.0\n",
       "7    8.0\n",
       "8    NaN\n",
       "9    NaN\n",
       "dtype: float64"
      ]
     },
     "execution_count": 15,
     "metadata": {},
     "output_type": "execute_result"
    }
   ],
   "source": [
    "# interpolation 메서드를 이용한 결측치 내삽\n",
    "# 용도: 결측치 주변 값들을 이용하여 다항식 곡선을 피팅하고, 해당 곡선을 통해 추정값을 계산합니다.\n",
    "# 장점: 비선형 데이터에도 적용 가능하며, 곡선의 차수를 조절하여 유연하게 모델링할 수 있습니다.\n",
    "# 단점: 과적합 위험이 있으며, 차수 설정에 주의해야 합니다.\n",
    "# 적용 예시: 부드럽게 변화하는 시계열 데이터, 특정 패턴을 따르는 데이터 등\n",
    "s.interpolate(\n",
    "    method=\"polynomial\", order=2,limit_direction=\"forward\", limit=2\n",
    ")\n",
    "#order=2로 2차 다항식을 사용하여 결측치 주변 값들을 기반으로 곡선을 피팅하고, 해당 곡선을 통해 결측치를 추정합니다.\n",
    "#order 값을 조절하여 곡선의 복잡도를 조절할 수 있습니다. (값이 클수록 복잡한 곡선)"
   ]
  },
  {
   "cell_type": "code",
   "execution_count": 16,
   "id": "07ed2b4d-bf16-4034-a3c0-73db7f462c03",
   "metadata": {},
   "outputs": [
    {
     "data": {
      "text/plain": [
       "0    1.0\n",
       "1    2.0\n",
       "2    3.0\n",
       "3    3.0\n",
       "4    3.0\n",
       "5    NaN\n",
       "6    7.0\n",
       "7    8.0\n",
       "8    NaN\n",
       "9    NaN\n",
       "dtype: float64"
      ]
     },
     "execution_count": 16,
     "metadata": {},
     "output_type": "execute_result"
    }
   ],
   "source": [
    "# interpolation 메서드를 이용한 결측치 내삽\n",
    "# 용도: 결측치와 가장 가까운 값으로 추정값을 대체합니다.\n",
    "# 장점: 매우 간단하고 빠르게 적용 가능합니다.\n",
    "# 단점: 데이터 분포를 고려하지 않아 부정확한 추정값이 생성될 수 있습니다.\n",
    "# 적용 예시: 범주형 데이터, 띄엄띄엄 측정된 데이터 등\n",
    "s.interpolate(\n",
    "    method=\"nearest\", limit_direction=\"forward\", limit=2\n",
    ")"
   ]
  },
  {
   "cell_type": "code",
   "execution_count": null,
   "id": "34f17067-876f-48e9-85a4-8767e9c55de4",
   "metadata": {},
   "outputs": [],
   "source": [
    "# interpolate 함수는 다양한 다른 내삽 방법들도 지원합니다. (예: spline, time, index, values, pad, bfill, ffill 등)\n",
    "# limit 매개변수를 사용하여 추정값의 변화량을 제한할 수 있습니다.\n",
    "# limit_direction 매개변수를 사용하여 제한 방향을 설정할 수 있습니다. (forward, backward, both)"
   ]
  }
 ],
 "metadata": {
  "kernelspec": {
   "display_name": "Python 3 (ipykernel)",
   "language": "python",
   "name": "python3"
  },
  "language_info": {
   "codemirror_mode": {
    "name": "ipython",
    "version": 3
   },
   "file_extension": ".py",
   "mimetype": "text/x-python",
   "name": "python",
   "nbconvert_exporter": "python",
   "pygments_lexer": "ipython3",
   "version": "3.12.4"
  }
 },
 "nbformat": 4,
 "nbformat_minor": 5
}
