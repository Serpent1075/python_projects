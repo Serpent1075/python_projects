{
 "cells": [
  {
   "cell_type": "code",
   "execution_count": 1,
   "id": "bcb78683-85c1-41bb-9f2d-bec18378c84c",
   "metadata": {},
   "outputs": [
    {
     "data": {
      "text/html": [
       "<div>\n",
       "<style scoped>\n",
       "    .dataframe tbody tr th:only-of-type {\n",
       "        vertical-align: middle;\n",
       "    }\n",
       "\n",
       "    .dataframe tbody tr th {\n",
       "        vertical-align: top;\n",
       "    }\n",
       "\n",
       "    .dataframe thead th {\n",
       "        text-align: right;\n",
       "    }\n",
       "</style>\n",
       "<table border=\"1\" class=\"dataframe\">\n",
       "  <thead>\n",
       "    <tr style=\"text-align: right;\">\n",
       "      <th></th>\n",
       "      <th>Age</th>\n",
       "      <th>Sex</th>\n",
       "      <th>Job</th>\n",
       "      <th>Housing</th>\n",
       "      <th>Saving accounts</th>\n",
       "      <th>Checking account</th>\n",
       "      <th>Credit amount</th>\n",
       "      <th>Duration</th>\n",
       "      <th>Purpose</th>\n",
       "    </tr>\n",
       "  </thead>\n",
       "  <tbody>\n",
       "    <tr>\n",
       "      <th>0</th>\n",
       "      <td>67</td>\n",
       "      <td>male</td>\n",
       "      <td>2</td>\n",
       "      <td>own</td>\n",
       "      <td>NaN</td>\n",
       "      <td>little</td>\n",
       "      <td>1169</td>\n",
       "      <td>6</td>\n",
       "      <td>radio/TV</td>\n",
       "    </tr>\n",
       "    <tr>\n",
       "      <th>1</th>\n",
       "      <td>22</td>\n",
       "      <td>female</td>\n",
       "      <td>2</td>\n",
       "      <td>own</td>\n",
       "      <td>little</td>\n",
       "      <td>moderate</td>\n",
       "      <td>5951</td>\n",
       "      <td>48</td>\n",
       "      <td>radio/TV</td>\n",
       "    </tr>\n",
       "    <tr>\n",
       "      <th>2</th>\n",
       "      <td>49</td>\n",
       "      <td>male</td>\n",
       "      <td>1</td>\n",
       "      <td>own</td>\n",
       "      <td>little</td>\n",
       "      <td>NaN</td>\n",
       "      <td>2096</td>\n",
       "      <td>12</td>\n",
       "      <td>education</td>\n",
       "    </tr>\n",
       "    <tr>\n",
       "      <th>3</th>\n",
       "      <td>45</td>\n",
       "      <td>male</td>\n",
       "      <td>2</td>\n",
       "      <td>free</td>\n",
       "      <td>little</td>\n",
       "      <td>little</td>\n",
       "      <td>7882</td>\n",
       "      <td>42</td>\n",
       "      <td>furniture/equipment</td>\n",
       "    </tr>\n",
       "    <tr>\n",
       "      <th>4</th>\n",
       "      <td>53</td>\n",
       "      <td>male</td>\n",
       "      <td>2</td>\n",
       "      <td>free</td>\n",
       "      <td>little</td>\n",
       "      <td>little</td>\n",
       "      <td>4870</td>\n",
       "      <td>24</td>\n",
       "      <td>car</td>\n",
       "    </tr>\n",
       "  </tbody>\n",
       "</table>\n",
       "</div>"
      ],
      "text/plain": [
       "   Age     Sex  Job Housing Saving accounts Checking account  Credit amount  \\\n",
       "0   67    male    2     own             NaN           little           1169   \n",
       "1   22  female    2     own          little         moderate           5951   \n",
       "2   49    male    1     own          little              NaN           2096   \n",
       "3   45    male    2    free          little           little           7882   \n",
       "4   53    male    2    free          little           little           4870   \n",
       "\n",
       "   Duration              Purpose  \n",
       "0         6             radio/TV  \n",
       "1        48             radio/TV  \n",
       "2        12            education  \n",
       "3        42  furniture/equipment  \n",
       "4        24                  car  "
      ]
     },
     "execution_count": 1,
     "metadata": {},
     "output_type": "execute_result"
    }
   ],
   "source": [
    "import pandas as pd\n",
    "from pathlib import Path\n",
    "\n",
    "data_path = Path('../../data_analysis_lect/datasets/German_credit/German_credit.csv')\n",
    "df = pd.read_csv(data_path)\n",
    "df.head()\n"
   ]
  },
  {
   "cell_type": "code",
   "execution_count": 3,
   "id": "76790d2f-8fd5-475b-ac8e-cb8a33e816ef",
   "metadata": {},
   "outputs": [
    {
     "data": {
      "text/plain": [
       "count    1000.000000\n",
       "mean       35.546000\n",
       "std        11.375469\n",
       "min        19.000000\n",
       "25%        27.000000\n",
       "50%        33.000000\n",
       "75%        42.000000\n",
       "max        75.000000\n",
       "Name: Age, dtype: float64"
      ]
     },
     "execution_count": 3,
     "metadata": {},
     "output_type": "execute_result"
    }
   ],
   "source": [
    "# describe를 통한 Age 변수 확인\n",
    "df['Age'].describe()"
   ]
  },
  {
   "cell_type": "code",
   "execution_count": 4,
   "id": "5cc74747-9fc5-4101-b95a-40e2f3e0f3bc",
   "metadata": {},
   "outputs": [
    {
     "data": {
      "text/plain": [
       "0        (61.0, 68.0]\n",
       "1      (18.944, 26.0]\n",
       "2        (47.0, 54.0]\n",
       "3        (40.0, 47.0]\n",
       "4        (47.0, 54.0]\n",
       "            ...      \n",
       "995      (26.0, 33.0]\n",
       "996      (33.0, 40.0]\n",
       "997      (33.0, 40.0]\n",
       "998    (18.944, 26.0]\n",
       "999      (26.0, 33.0]\n",
       "Name: Age, Length: 1000, dtype: category\n",
       "Categories (8, interval[float64, right]): [(18.944, 26.0] < (26.0, 33.0] < (33.0, 40.0] < (40.0, 47.0] < (47.0, 54.0] < (54.0, 61.0] < (61.0, 68.0] < (68.0, 75.0]]"
      ]
     },
     "execution_count": 4,
     "metadata": {},
     "output_type": "execute_result"
    }
   ],
   "source": [
    "# cut 메서드를 이용한 수치형 변수 구간화 bins: 몇개의 일정한 길이의 구간으로 쪼갤지\n",
    "pd.cut(df['Age'], bins=8)"
   ]
  },
  {
   "cell_type": "code",
   "execution_count": 6,
   "id": "cec3a293-9f9a-4fd6-a804-d34211558b02",
   "metadata": {},
   "outputs": [
    {
     "data": {
      "text/plain": [
       "Age\n",
       "(18.944, 26.0]    240\n",
       "(26.0, 33.0]      276\n",
       "(33.0, 40.0]      210\n",
       "(40.0, 47.0]      123\n",
       "(47.0, 54.0]       72\n",
       "(54.0, 61.0]       41\n",
       "(61.0, 68.0]       31\n",
       "(68.0, 75.0]        7\n",
       "dtype: int64"
      ]
     },
     "execution_count": 6,
     "metadata": {},
     "output_type": "execute_result"
    }
   ],
   "source": [
    "# 구간별 데이터 개수 확인\n",
    "pd.cut(df['Age'], bins=8).reset_index().groupby('Age', observed=False).size()"
   ]
  },
  {
   "cell_type": "code",
   "execution_count": 7,
   "id": "38a8a484-c2ac-4d8c-933a-ece638ec5ea9",
   "metadata": {},
   "outputs": [
    {
     "data": {
      "text/plain": [
       "0      (60, 70]\n",
       "1      (20, 30]\n",
       "2      (40, 50]\n",
       "3      (40, 50]\n",
       "4      (50, 60]\n",
       "         ...   \n",
       "995    (30, 40]\n",
       "996    (30, 40]\n",
       "997    (30, 40]\n",
       "998    (20, 30]\n",
       "999    (20, 30]\n",
       "Name: Age, Length: 1000, dtype: category\n",
       "Categories (7, interval[int64, right]): [(10, 20] < (20, 30] < (30, 40] < (40, 50] < (50, 60] < (60, 70] < (70, 80]]"
      ]
     },
     "execution_count": 7,
     "metadata": {},
     "output_type": "execute_result"
    }
   ],
   "source": [
    "# cut 메서드를 통한 임의 구간화\n",
    "bins = [10, 20, 30, 40, 50, 60, 70, 80]\n",
    "pd.cut(df['Age'], bins=bins)\n"
   ]
  },
  {
   "cell_type": "code",
   "execution_count": 8,
   "id": "425c6243-ea79-47f1-bc6c-e00eefbf3e53",
   "metadata": {},
   "outputs": [
    {
     "data": {
      "text/plain": [
       "0      [60, 70)\n",
       "1      [20, 30)\n",
       "2      [40, 50)\n",
       "3      [40, 50)\n",
       "4      [50, 60)\n",
       "         ...   \n",
       "995    [30, 40)\n",
       "996    [40, 50)\n",
       "997    [30, 40)\n",
       "998    [20, 30)\n",
       "999    [20, 30)\n",
       "Name: Age, Length: 1000, dtype: category\n",
       "Categories (7, interval[int64, left]): [[10, 20) < [20, 30) < [30, 40) < [40, 50) < [50, 60) < [60, 70) < [70, 80)]"
      ]
     },
     "execution_count": 8,
     "metadata": {},
     "output_type": "execute_result"
    }
   ],
   "source": [
    "# right 인자를 이용한 오른쪽 닫힌 구간 범주화\n",
    "bins = [10, 20, 30, 40, 50, 60, 70, 80]\n",
    "pd.cut(df['Age'], bins=bins, right=False)\n"
   ]
  },
  {
   "cell_type": "code",
   "execution_count": 9,
   "id": "86894a53-06c3-49f1-9c9d-52da317fabd7",
   "metadata": {},
   "outputs": [
    {
     "data": {
      "text/plain": [
       "0      (49.125, 75.0]\n",
       "1      (18.999, 24.0]\n",
       "2      (42.0, 49.125]\n",
       "3      (42.0, 49.125]\n",
       "4      (49.125, 75.0]\n",
       "            ...      \n",
       "995      (30.0, 33.0]\n",
       "996      (36.0, 42.0]\n",
       "997      (36.0, 42.0]\n",
       "998    (18.999, 24.0]\n",
       "999      (24.0, 27.0]\n",
       "Name: Age, Length: 1000, dtype: category\n",
       "Categories (8, interval[float64, right]): [(18.999, 24.0] < (24.0, 27.0] < (27.0, 30.0] < (30.0, 33.0] < (33.0, 36.0] < (36.0, 42.0] < (42.0, 49.125] < (49.125, 75.0]]"
      ]
     },
     "execution_count": 9,
     "metadata": {},
     "output_type": "execute_result"
    }
   ],
   "source": [
    "# qcut\n",
    "pd.qcut(df['Age'], q=8)"
   ]
  },
  {
   "cell_type": "code",
   "execution_count": 11,
   "id": "a56b5261-b08e-43fc-86cc-e79f1e389390",
   "metadata": {},
   "outputs": [
    {
     "data": {
      "text/plain": [
       "Age\n",
       "(18.999, 24.0]    149\n",
       "(24.0, 27.0]      142\n",
       "(27.0, 30.0]      120\n",
       "(30.0, 33.0]      105\n",
       "(33.0, 36.0]      111\n",
       "(36.0, 42.0]      138\n",
       "(42.0, 49.125]    110\n",
       "(49.125, 75.0]    125\n",
       "dtype: int64"
      ]
     },
     "execution_count": 11,
     "metadata": {},
     "output_type": "execute_result"
    }
   ],
   "source": [
    "# qcut으로 나눈 범주형 변수의 구간별 데이터 개수 확인\n",
    "pd.qcut(\n",
    "    df['Age'], q=8, duplicates='drop'\n",
    ").reset_index().groupby('Age',observed=False).size()"
   ]
  },
  {
   "cell_type": "code",
   "execution_count": 2,
   "id": "4e13cb90-0a33-4a30-ba6b-ae25871cf5d0",
   "metadata": {},
   "outputs": [
    {
     "data": {
      "text/plain": [
       "0    0\n",
       "1    0\n",
       "2    1\n",
       "3    1\n",
       "4    0\n",
       "5    1\n",
       "6    1\n",
       "7    1\n",
       "8    1\n",
       "9    0\n",
       "dtype: int64"
      ]
     },
     "execution_count": 2,
     "metadata": {},
     "output_type": "execute_result"
    }
   ],
   "source": [
    "#\n",
    "import pandas as pd\n",
    "s = pd.Series([0, 0, 1, 1, 0, 1, 1, 1, 1, 0])\n",
    "s"
   ]
  },
  {
   "cell_type": "code",
   "execution_count": 3,
   "id": "cc87100e-023a-44be-81d5-3750406e08ff",
   "metadata": {},
   "outputs": [
    {
     "data": {
      "text/plain": [
       "0    0\n",
       "1    0\n",
       "2    1\n",
       "3    2\n",
       "4    2\n",
       "5    3\n",
       "6    4\n",
       "7    5\n",
       "8    6\n",
       "9    6\n",
       "dtype: int64"
      ]
     },
     "execution_count": 3,
     "metadata": {},
     "output_type": "execute_result"
    }
   ],
   "source": [
    "#\n",
    "sc = s.cumsum()\n",
    "sc"
   ]
  },
  {
   "cell_type": "code",
   "execution_count": 4,
   "id": "c2dceb3d-1032-4499-bce8-095608f71551",
   "metadata": {},
   "outputs": [
    {
     "data": {
      "text/plain": [
       "0    0\n",
       "1    0\n",
       "2    1\n",
       "3    2\n",
       "4    0\n",
       "5    3\n",
       "6    4\n",
       "7    5\n",
       "8    6\n",
       "9    0\n",
       "dtype: int64"
      ]
     },
     "execution_count": 4,
     "metadata": {},
     "output_type": "execute_result"
    }
   ],
   "source": [
    "#\n",
    "s.mul(sc)"
   ]
  },
  {
   "cell_type": "code",
   "execution_count": 4,
   "id": "ed750698-52f8-4739-95cd-1362ca4f5fb2",
   "metadata": {},
   "outputs": [
    {
     "data": {
      "text/plain": [
       "0    NaN\n",
       "1    0.0\n",
       "2    1.0\n",
       "3    1.0\n",
       "4   -2.0\n",
       "5    3.0\n",
       "6    1.0\n",
       "7    1.0\n",
       "8    1.0\n",
       "9   -6.0\n",
       "dtype: float64"
      ]
     },
     "execution_count": 4,
     "metadata": {},
     "output_type": "execute_result"
    }
   ],
   "source": [
    "#\n",
    "s.mul(sc).diff()"
   ]
  },
  {
   "cell_type": "code",
   "execution_count": 6,
   "id": "61efcfcb-51ee-4a76-8034-d3665e1a4c11",
   "metadata": {},
   "outputs": [
    {
     "data": {
      "text/plain": [
       "0    NaN\n",
       "1    NaN\n",
       "2    NaN\n",
       "3    NaN\n",
       "4   -2.0\n",
       "5    NaN\n",
       "6    NaN\n",
       "7    NaN\n",
       "8    NaN\n",
       "9   -6.0\n",
       "dtype: float64"
      ]
     },
     "execution_count": 6,
     "metadata": {},
     "output_type": "execute_result"
    }
   ],
   "source": [
    "#\n",
    "s.mul(sc).diff().where(lambda x: x<0)"
   ]
  },
  {
   "cell_type": "code",
   "execution_count": 5,
   "id": "ecc7a532-e399-4e0b-a5f0-4d07b7b4feab",
   "metadata": {},
   "outputs": [
    {
     "data": {
      "text/plain": [
       "0    NaN\n",
       "1    NaN\n",
       "2    NaN\n",
       "3    NaN\n",
       "4   -2.0\n",
       "5   -2.0\n",
       "6   -2.0\n",
       "7   -2.0\n",
       "8   -2.0\n",
       "9   -6.0\n",
       "dtype: float64"
      ]
     },
     "execution_count": 5,
     "metadata": {},
     "output_type": "execute_result"
    }
   ],
   "source": [
    "\n",
    "#\n",
    "s.mul(sc).diff().where(lambda x: x<0).ffill()\n"
   ]
  },
  {
   "cell_type": "code",
   "execution_count": 6,
   "id": "3bf8f21f-8fc1-428e-90e5-cd539f5a38be",
   "metadata": {},
   "outputs": [
    {
     "data": {
      "text/plain": [
       "0    0.0\n",
       "1    0.0\n",
       "2    1.0\n",
       "3    2.0\n",
       "4    0.0\n",
       "5    1.0\n",
       "6    2.0\n",
       "7    3.0\n",
       "8    4.0\n",
       "9    0.0\n",
       "dtype: float64"
      ]
     },
     "execution_count": 6,
     "metadata": {},
     "output_type": "execute_result"
    }
   ],
   "source": [
    "\n",
    "#\n",
    "s.mul(sc).diff().where(lambda x: x<0).ffill().add(sc, fill_value=0)\n"
   ]
  },
  {
   "cell_type": "code",
   "execution_count": 11,
   "id": "9b98fa11-9681-48bb-85b4-3e44141adfaa",
   "metadata": {},
   "outputs": [
    {
     "data": {
      "text/plain": [
       "22"
      ]
     },
     "execution_count": 11,
     "metadata": {},
     "output_type": "execute_result"
    }
   ],
   "source": [
    "\n",
    "# 실전 데이터에 적용\n",
    "data_path = Path('../data_analysis/datasets/APPL_price/APPL_price.csv')\n",
    "df = pd.read_csv(data_path)\n",
    "s = df['Close'] > 175\n",
    "s.sum()\n"
   ]
  },
  {
   "cell_type": "code",
   "execution_count": 7,
   "id": "e8cddfce-c5b4-45d6-ac60-077e2938a90f",
   "metadata": {},
   "outputs": [
    {
     "data": {
      "text/plain": [
       "0    0\n",
       "1    0\n",
       "2    1\n",
       "3    2\n",
       "4    2\n",
       "5    3\n",
       "6    4\n",
       "7    5\n",
       "8    6\n",
       "9    6\n",
       "dtype: int64"
      ]
     },
     "execution_count": 7,
     "metadata": {},
     "output_type": "execute_result"
    }
   ],
   "source": [
    "\n",
    "# 실전 데이터에 적용\n",
    "sc = s.cumsum()\n",
    "sc"
   ]
  },
  {
   "cell_type": "code",
   "execution_count": 9,
   "id": "a3f6451f-db28-4abc-b467-e9f09423fba9",
   "metadata": {},
   "outputs": [
    {
     "data": {
      "text/plain": [
       "0    0\n",
       "1    0\n",
       "2    1\n",
       "3    2\n",
       "4    0\n",
       "5    3\n",
       "6    4\n",
       "7    5\n",
       "8    6\n",
       "9    0\n",
       "dtype: int64"
      ]
     },
     "execution_count": 9,
     "metadata": {},
     "output_type": "execute_result"
    }
   ],
   "source": [
    "s.mul(sc)"
   ]
  },
  {
   "cell_type": "code",
   "execution_count": 10,
   "id": "45bca393-7ff6-49d0-8fbb-3afaa9396f94",
   "metadata": {},
   "outputs": [
    {
     "data": {
      "text/plain": [
       "0    NaN\n",
       "1    0.0\n",
       "2    1.0\n",
       "3    1.0\n",
       "4   -2.0\n",
       "5    3.0\n",
       "6    1.0\n",
       "7    1.0\n",
       "8    1.0\n",
       "9   -6.0\n",
       "dtype: float64"
      ]
     },
     "execution_count": 10,
     "metadata": {},
     "output_type": "execute_result"
    }
   ],
   "source": [
    "s.mul(sc).diff()"
   ]
  },
  {
   "cell_type": "code",
   "execution_count": 11,
   "id": "e4410af8-2d05-4ec2-8d1b-e3ddad976ec1",
   "metadata": {},
   "outputs": [
    {
     "data": {
      "text/plain": [
       "0    NaN\n",
       "1    NaN\n",
       "2    NaN\n",
       "3    NaN\n",
       "4   -2.0\n",
       "5    NaN\n",
       "6    NaN\n",
       "7    NaN\n",
       "8    NaN\n",
       "9   -6.0\n",
       "dtype: float64"
      ]
     },
     "execution_count": 11,
     "metadata": {},
     "output_type": "execute_result"
    }
   ],
   "source": [
    "s.mul(sc).diff().where(lambda x: x<0)"
   ]
  },
  {
   "cell_type": "code",
   "execution_count": 13,
   "id": "939283d1-36a9-4a6f-b957-04464db4bdc6",
   "metadata": {},
   "outputs": [
    {
     "data": {
      "text/plain": [
       "0    NaN\n",
       "1    NaN\n",
       "2    NaN\n",
       "3    NaN\n",
       "4   -2.0\n",
       "5   -2.0\n",
       "6   -2.0\n",
       "7   -2.0\n",
       "8   -2.0\n",
       "9   -6.0\n",
       "dtype: float64"
      ]
     },
     "execution_count": 13,
     "metadata": {},
     "output_type": "execute_result"
    }
   ],
   "source": [
    "s.mul(sc).diff().where(lambda x: x<0).ffill()"
   ]
  },
  {
   "cell_type": "code",
   "execution_count": 14,
   "id": "f1461516-f51a-4b8c-96df-ef6c79bc3f48",
   "metadata": {},
   "outputs": [
    {
     "data": {
      "text/plain": [
       "0    0.0\n",
       "1    0.0\n",
       "2    1.0\n",
       "3    2.0\n",
       "4    0.0\n",
       "5    1.0\n",
       "6    2.0\n",
       "7    3.0\n",
       "8    4.0\n",
       "9    0.0\n",
       "dtype: float64"
      ]
     },
     "execution_count": 14,
     "metadata": {},
     "output_type": "execute_result"
    }
   ],
   "source": [
    "s.mul(sc).diff().where(lambda x: x<0).ffill().add(sc, fill_value=0)"
   ]
  },
  {
   "cell_type": "code",
   "execution_count": 15,
   "id": "9eb7d160-1694-4772-af80-3ccf35a75652",
   "metadata": {},
   "outputs": [
    {
     "data": {
      "text/plain": [
       "4.0"
      ]
     },
     "execution_count": 15,
     "metadata": {},
     "output_type": "execute_result"
    }
   ],
   "source": [
    "s.mul(sc).diff().where(lambda x: x<0).ffill().add(sc, fill_value=0).max()"
   ]
  },
  {
   "cell_type": "code",
   "execution_count": null,
   "id": "5040c82d-5eda-448a-9e3b-1e66d774d953",
   "metadata": {},
   "outputs": [],
   "source": []
  }
 ],
 "metadata": {
  "kernelspec": {
   "display_name": "Python 3 (ipykernel)",
   "language": "python",
   "name": "python3"
  },
  "language_info": {
   "codemirror_mode": {
    "name": "ipython",
    "version": 3
   },
   "file_extension": ".py",
   "mimetype": "text/x-python",
   "name": "python",
   "nbconvert_exporter": "python",
   "pygments_lexer": "ipython3",
   "version": "3.12.4"
  }
 },
 "nbformat": 4,
 "nbformat_minor": 5
}
