{
 "cells": [
  {
   "cell_type": "code",
   "execution_count": 20,
   "id": "c7f71397-1ace-4354-8c1c-21a0c4be321d",
   "metadata": {},
   "outputs": [
    {
     "name": "stdout",
     "output_type": "stream",
     "text": [
      "<class 'pandas.core.frame.DataFrame'>\n",
      "RangeIndex: 525 entries, 0 to 524\n",
      "Data columns (total 5 columns):\n",
      " #   Column        Non-Null Count  Dtype  \n",
      "---  ------        --------------  -----  \n",
      " 0   Hotel_Name    525 non-null    object \n",
      " 1   Review        325 non-null    object \n",
      " 2   Total_Review  325 non-null    object \n",
      " 3   Rating        315 non-null    float64\n",
      " 4   Location      525 non-null    object \n",
      "dtypes: float64(1), object(4)\n",
      "memory usage: 20.6+ KB\n"
     ]
    },
    {
     "data": {
      "text/plain": [
       "count      325.000000\n",
       "mean      1771.630769\n",
       "std       2530.013514\n",
       "min          1.000000\n",
       "25%        343.000000\n",
       "50%        920.000000\n",
       "75%       2189.000000\n",
       "max      16148.000000\n",
       "Name: Total_Review, dtype: float64"
      ]
     },
     "execution_count": 20,
     "metadata": {},
     "output_type": "execute_result"
    }
   ],
   "source": [
    "import pandas as pd\n",
    "from pathlib import Path\n",
    "\n",
    "data_path = Path('../../data_analysis_lect/datasets/bookings/Bookings.csv')\n",
    "df = pd.read_csv(data_path)\n",
    "\n",
    "# info 메서드를 이용한 데이터테이블의 개략적 정보 파악\n",
    "df.info()\n",
    "\n",
    "# describe 메서드를 이용한 데이터테이블의 수치형 통계정보 파악\n",
    "df.describe()\n",
    "\n",
    "# describe 메서드를 이용한 데이터테이블의 번주형 통계정보 파악\n",
    "df.describe(include='object')\n",
    "\n",
    "# 고유값과 고유값들이 나타나는 빈도수 구하기\n",
    "df['Review'].value_counts()\n",
    "\n",
    "# review 열의 일부 값 수정 및 value_counts 메서드 재실행\n",
    "df.loc[df['Review'] == \"Superb 9.0\", \"Review\"] = \"Superb \"\n",
    "df.loc[df['Review'] == \"Exceptional 10\", \"Review\"] = \"Exceptional \"\n",
    "\n",
    "df['Review'].value_counts()\n",
    "\n",
    "# unique 메서드를 이용한 고유값 확인\n",
    "df['Total_Review'].unique()\n",
    "\n",
    "# Total review 열 일부 값 수정 후 unique 메서드 재실행\n",
    "df['Total_Review'] = df['Total_Review'].map(lambda x: str(x).replace('external','').strip())\n",
    "df['Total_Review'] = df['Total_Review'].map(lambda x: str(x).replace('review','').strip())\n",
    "df['Total_Review'] = df['Total_Review'].map(lambda x: str(x).replace(',',''))\n",
    "df['Total_Review'] = df['Total_Review'].astype('float')\n",
    "\n",
    "df['Total_Review'].describe()"
   ]
  },
  {
   "cell_type": "code",
   "execution_count": 21,
   "id": "4eda9df0-eedc-4166-b977-d717f6431635",
   "metadata": {},
   "outputs": [
    {
     "data": {
      "text/plain": [
       "Review\n",
       "Very good        117\n",
       "Good             116\n",
       "Review score      31\n",
       "Fabulous          30\n",
       "Superb            24\n",
       "Exceptional        7\n",
       "Name: count, dtype: int64"
      ]
     },
     "execution_count": 21,
     "metadata": {},
     "output_type": "execute_result"
    }
   ],
   "source": [
    "df['Review'].value_counts()"
   ]
  },
  {
   "cell_type": "code",
   "execution_count": 13,
   "id": "2de8c56d-d802-4dd9-a764-5910f05a595a",
   "metadata": {},
   "outputs": [],
   "source": [
    "df.loc[df['Review'] == \"Superb 9.0\", \"Review\"] = \"Superb \""
   ]
  },
  {
   "cell_type": "code",
   "execution_count": 14,
   "id": "c874ba9d-42fc-49c7-b7bd-97ef76ce7e08",
   "metadata": {},
   "outputs": [
    {
     "data": {
      "text/plain": [
       "Review\n",
       "Very good        117\n",
       "Good             116\n",
       "Review score      31\n",
       "Fabulous          30\n",
       "Superb            24\n",
       "Exceptional        7\n",
       "Name: count, dtype: int64"
      ]
     },
     "execution_count": 14,
     "metadata": {},
     "output_type": "execute_result"
    }
   ],
   "source": [
    "df['Review'].value_counts()"
   ]
  },
  {
   "cell_type": "code",
   "execution_count": 15,
   "id": "5fb554f9-0240-468e-8957-4c6ad5179065",
   "metadata": {},
   "outputs": [
    {
     "name": "stdout",
     "output_type": "stream",
     "text": [
      "<class 'pandas.core.frame.DataFrame'>\n",
      "RangeIndex: 525 entries, 0 to 524\n",
      "Data columns (total 5 columns):\n",
      " #   Column        Non-Null Count  Dtype  \n",
      "---  ------        --------------  -----  \n",
      " 0   Hotel_Name    525 non-null    object \n",
      " 1   Review        325 non-null    object \n",
      " 2   Total_Review  325 non-null    object \n",
      " 3   Rating        315 non-null    float64\n",
      " 4   Location      525 non-null    object \n",
      "dtypes: float64(1), object(4)\n",
      "memory usage: 20.6+ KB\n"
     ]
    },
    {
     "data": {
      "text/html": [
       "<div>\n",
       "<style scoped>\n",
       "    .dataframe tbody tr th:only-of-type {\n",
       "        vertical-align: middle;\n",
       "    }\n",
       "\n",
       "    .dataframe tbody tr th {\n",
       "        vertical-align: top;\n",
       "    }\n",
       "\n",
       "    .dataframe thead th {\n",
       "        text-align: right;\n",
       "    }\n",
       "</style>\n",
       "<table border=\"1\" class=\"dataframe\">\n",
       "  <thead>\n",
       "    <tr style=\"text-align: right;\">\n",
       "      <th></th>\n",
       "      <th>Hotel_Name</th>\n",
       "      <th>Review</th>\n",
       "      <th>Total_Review</th>\n",
       "      <th>Location</th>\n",
       "    </tr>\n",
       "  </thead>\n",
       "  <tbody>\n",
       "    <tr>\n",
       "      <th>count</th>\n",
       "      <td>525</td>\n",
       "      <td>325</td>\n",
       "      <td>325</td>\n",
       "      <td>525</td>\n",
       "    </tr>\n",
       "    <tr>\n",
       "      <th>unique</th>\n",
       "      <td>498</td>\n",
       "      <td>8</td>\n",
       "      <td>255</td>\n",
       "      <td>25</td>\n",
       "    </tr>\n",
       "    <tr>\n",
       "      <th>top</th>\n",
       "      <td>Oakwood Residence Midtown East</td>\n",
       "      <td>Very good</td>\n",
       "      <td>1 review</td>\n",
       "      <td>Manhattan</td>\n",
       "    </tr>\n",
       "    <tr>\n",
       "      <th>freq</th>\n",
       "      <td>2</td>\n",
       "      <td>117</td>\n",
       "      <td>5</td>\n",
       "      <td>112</td>\n",
       "    </tr>\n",
       "  </tbody>\n",
       "</table>\n",
       "</div>"
      ],
      "text/plain": [
       "                            Hotel_Name      Review Total_Review    Location\n",
       "count                              525         325          325         525\n",
       "unique                             498           8          255          25\n",
       "top     Oakwood Residence Midtown East  Very good      1 review  Manhattan \n",
       "freq                                 2         117            5         112"
      ]
     },
     "execution_count": 15,
     "metadata": {},
     "output_type": "execute_result"
    }
   ],
   "source": [
    "data_path = Path('../data_analysis/datasets/bookings/Bookings.csv')\n",
    "df = pd.read_csv(data_path)\n",
    "\n",
    "# info 메서드를 이용한 데이터테이블의 개략적 정보 파악\n",
    "df.info()\n",
    "\n",
    "# describe 메서드를 이용한 데이터테이블의 수치형 통계정보 파악\n",
    "df.describe()\n",
    "\n",
    "# describe 메서드를 이용한 데이터테이블의 번주형 통계정보 파악\n",
    "df.describe(include='object')"
   ]
  },
  {
   "cell_type": "code",
   "execution_count": 16,
   "id": "551ef761-5cce-4862-9e33-47a40d58f89b",
   "metadata": {},
   "outputs": [
    {
     "data": {
      "text/plain": [
       "Review\n",
       "Very good         117\n",
       "Good              116\n",
       "Review score       31\n",
       "Fabulous           30\n",
       "Superb             16\n",
       "Superb 9.0          8\n",
       "Exceptional         5\n",
       "Exceptional 10      2\n",
       "Name: count, dtype: int64"
      ]
     },
     "execution_count": 16,
     "metadata": {},
     "output_type": "execute_result"
    }
   ],
   "source": [
    "df['Review'].value_counts()"
   ]
  },
  {
   "cell_type": "code",
   "execution_count": 17,
   "id": "f6da8085-9487-4fde-8ba2-074bf3382c24",
   "metadata": {},
   "outputs": [
    {
     "data": {
      "text/plain": [
       "Review\n",
       "Very good         117\n",
       "Good              116\n",
       "Review score       31\n",
       "Fabulous           30\n",
       "Superb             24\n",
       "Exceptional         5\n",
       "Exceptional 10      2\n",
       "Name: count, dtype: int64"
      ]
     },
     "execution_count": 17,
     "metadata": {},
     "output_type": "execute_result"
    }
   ],
   "source": [
    "df.loc[df['Review'] == \"Superb 9.0\", \"Review\"] = \"Superb \"\n",
    "df['Review'].value_counts()"
   ]
  },
  {
   "cell_type": "code",
   "execution_count": 18,
   "id": "160639da-e8b8-45fe-9175-bd3e31992b8d",
   "metadata": {},
   "outputs": [
    {
     "data": {
      "text/plain": [
       "Review\n",
       "Very good        117\n",
       "Good             116\n",
       "Review score      31\n",
       "Fabulous          30\n",
       "Superb            24\n",
       "Exceptional        7\n",
       "Name: count, dtype: int64"
      ]
     },
     "execution_count": 18,
     "metadata": {},
     "output_type": "execute_result"
    }
   ],
   "source": [
    "df.loc[df['Review'] == \"Exceptional 10\", \"Review\"] = \"Exceptional \"\n",
    "df['Review'].value_counts()"
   ]
  },
  {
   "cell_type": "code",
   "execution_count": 19,
   "id": "f5d51860-83b2-4f5f-925f-376ca5511c43",
   "metadata": {},
   "outputs": [
    {
     "data": {
      "text/plain": [
       "array(['28', '52', '2,870', '975', '13,951', '8,044', '16,148', '343',\n",
       "       '6,038', '2,028', '9,659', '4,435', '7,298', '11,455', '2,802',\n",
       "       '1,847', '2,189', '703', '1,382', '4,646', '951', '4,498', '1,475',\n",
       "       '6,245', '5,866', '959', '1,876', '848', '3,097', '3,477', '1,648',\n",
       "       '46', '2,289', '148', '664', '1,867', '1,067', '130', '920',\n",
       "       '2,560', '3,878', '1,698', '719', '7,585', '1,180', '2,035',\n",
       "       '6,144', '638', '9,240', '3,907', '3,128', '2,383', '833', '558',\n",
       "       '3,170', '2,857', '981', '192', '1,449', '1,373', '598', '3,859',\n",
       "       '3,639', '1,048', '2,859', '2,412', '749', '6,639', '1,143',\n",
       "       '2,353', '3,002', '8,844', '57', '657', '2,535', '946', '1,087',\n",
       "       '3,627', '844', '483', '1,078', '1,074', '1,797', '728', '415',\n",
       "       '766', '523', '770', '178', '464', '647', '1,225', '562',\n",
       "       '1 review', '1,188', '1,260', '4,246', '2,521', '586', '1,643',\n",
       "       '1,243', '2,623', '621', '488', '607', '1,425', '1,389', '2,014',\n",
       "       '1,000', '2,299', '595', '751', '159', '1,550', '1,030', '4,166',\n",
       "       '1,089', nan, '663', '579', '1,864', '377', '832', '718', '1,294',\n",
       "       '3,255', '495', '1,736', '1,918', '333', '234', '114', '2,620',\n",
       "       '754', '1,105', '94', '1,097', '2,446', '665', '1,169', '2,717',\n",
       "       '988', '1,046', '321', '317', '108', '76', '721', '1,420', '1,519',\n",
       "       '49', '407', '193', '4,092', '965', '307', '2,317', '2,982',\n",
       "       '3,832', '269', '1,834', '707', '425', '390', '985', '693',\n",
       "       '1,218', '113', '1,122', '966', '711', '1,220', '13', '2,533',\n",
       "       '233', '14', '553', '601', '532', '65 external  ', '1,592', '855',\n",
       "       '400', '386', '1,092', '259', '411', '865', '3,471', '723', '525',\n",
       "       '943', '1,500', '325', '1,708', '230', '227', '1,778', '53',\n",
       "       '4,288', '787', '355', '1,251', '128', '258', '125', '699', '285',\n",
       "       '109', '30', '1,754', '437', '60', '200', '2', '453', '769', '465',\n",
       "       '6', '524', '434', '372', '817', '472', '314', '168', '1,085',\n",
       "       '1,195', '1,118', '1,471', '416', '173', '352', '385', '1,482',\n",
       "       '22 external  ', '241', '497', '117', '59', '79', '3',\n",
       "       '3 external  ', '379', '42', '255', '99', '212', '602', '9', '165',\n",
       "       '146', '14 external  ', '13 external  ', '7 external  ',\n",
       "       '4 external  '], dtype=object)"
      ]
     },
     "execution_count": 19,
     "metadata": {},
     "output_type": "execute_result"
    }
   ],
   "source": [
    "df['Total_Review'].unique()"
   ]
  },
  {
   "cell_type": "code",
   "execution_count": 24,
   "id": "1f46d2ac-7b9b-405a-9d77-14f961992ac3",
   "metadata": {},
   "outputs": [
    {
     "data": {
      "text/plain": [
       "count      325.000000\n",
       "mean      1771.630769\n",
       "std       2530.013514\n",
       "min          1.000000\n",
       "25%        343.000000\n",
       "50%        920.000000\n",
       "75%       2189.000000\n",
       "max      16148.000000\n",
       "Name: Total_Review, dtype: float64"
      ]
     },
     "execution_count": 24,
     "metadata": {},
     "output_type": "execute_result"
    }
   ],
   "source": [
    "# Total review 열 일부 값 수정 후 unique 메서드 재실행\n",
    "df['Total_Review'] = df['Total_Review'].map(lambda x: str(x).replace('external','').strip())\n",
    "df['Total_Review'] = df['Total_Review'].map(lambda x: str(x).replace('review','').strip())\n",
    "df['Total_Review'] = df['Total_Review'].map(lambda x: str(x).replace(',',''))\n",
    "df['Total_Review'] = df['Total_Review'].astype('float')\n",
    "\n",
    "df['Total_Review'].describe()"
   ]
  },
  {
   "cell_type": "code",
   "execution_count": 25,
   "id": "7a136c74-c264-4f87-89a0-257368b009d2",
   "metadata": {},
   "outputs": [
    {
     "data": {
      "text/plain": [
       "array([2.8000e+01, 5.2000e+01, 2.8700e+03, 9.7500e+02, 1.3951e+04,\n",
       "       8.0440e+03, 1.6148e+04, 3.4300e+02, 6.0380e+03, 2.0280e+03,\n",
       "       9.6590e+03, 4.4350e+03, 7.2980e+03, 1.1455e+04, 2.8020e+03,\n",
       "       1.8470e+03, 2.1890e+03, 7.0300e+02, 1.3820e+03, 4.6460e+03,\n",
       "       9.5100e+02, 4.4980e+03, 1.4750e+03, 6.2450e+03, 5.8660e+03,\n",
       "       9.5900e+02, 1.8760e+03, 8.4800e+02, 3.0970e+03, 3.4770e+03,\n",
       "       1.6480e+03, 4.6000e+01, 2.2890e+03, 1.4800e+02, 6.6400e+02,\n",
       "       1.8670e+03, 1.0670e+03, 1.3000e+02, 9.2000e+02, 2.5600e+03,\n",
       "       3.8780e+03, 1.6980e+03, 7.1900e+02, 7.5850e+03, 1.1800e+03,\n",
       "       2.0350e+03, 6.1440e+03, 6.3800e+02, 9.2400e+03, 3.9070e+03,\n",
       "       3.1280e+03, 2.3830e+03, 8.3300e+02, 5.5800e+02, 3.1700e+03,\n",
       "       2.8570e+03, 9.8100e+02, 1.9200e+02, 1.4490e+03, 1.3730e+03,\n",
       "       5.9800e+02, 3.8590e+03, 3.6390e+03, 1.0480e+03, 2.8590e+03,\n",
       "       2.4120e+03, 7.4900e+02, 6.6390e+03, 1.1430e+03, 2.3530e+03,\n",
       "       3.0020e+03, 8.8440e+03, 5.7000e+01, 6.5700e+02, 2.5350e+03,\n",
       "       9.4600e+02, 1.0870e+03, 3.6270e+03, 8.4400e+02, 4.8300e+02,\n",
       "       1.0780e+03, 1.0740e+03, 1.7970e+03, 7.2800e+02, 4.1500e+02,\n",
       "       7.6600e+02, 5.2300e+02, 7.7000e+02, 1.7800e+02, 4.6400e+02,\n",
       "       6.4700e+02, 1.2250e+03, 5.6200e+02, 1.0000e+00, 1.1880e+03,\n",
       "       1.2600e+03, 4.2460e+03, 2.5210e+03, 5.8600e+02, 1.6430e+03,\n",
       "       1.2430e+03, 2.6230e+03, 6.2100e+02, 4.8800e+02, 6.0700e+02,\n",
       "       1.4250e+03, 1.3890e+03, 2.0140e+03, 1.0000e+03, 2.2990e+03,\n",
       "       5.9500e+02, 7.5100e+02, 1.5900e+02, 1.5500e+03, 1.0300e+03,\n",
       "       4.1660e+03, 1.0890e+03,        nan, 6.6300e+02, 5.7900e+02,\n",
       "       1.8640e+03, 3.7700e+02, 8.3200e+02, 7.1800e+02, 1.2940e+03,\n",
       "       3.2550e+03, 4.9500e+02, 1.7360e+03, 1.9180e+03, 3.3300e+02,\n",
       "       2.3400e+02, 1.1400e+02, 2.6200e+03, 7.5400e+02, 1.1050e+03,\n",
       "       9.4000e+01, 1.0970e+03, 2.4460e+03, 6.6500e+02, 1.1690e+03,\n",
       "       2.7170e+03, 9.8800e+02, 1.0460e+03, 3.2100e+02, 3.1700e+02,\n",
       "       1.0800e+02, 7.6000e+01, 7.2100e+02, 1.4200e+03, 1.5190e+03,\n",
       "       4.9000e+01, 4.0700e+02, 1.9300e+02, 4.0920e+03, 9.6500e+02,\n",
       "       3.0700e+02, 2.3170e+03, 2.9820e+03, 3.8320e+03, 2.6900e+02,\n",
       "       1.8340e+03, 7.0700e+02, 4.2500e+02, 3.9000e+02, 9.8500e+02,\n",
       "       6.9300e+02, 1.2180e+03, 1.1300e+02, 1.1220e+03, 9.6600e+02,\n",
       "       7.1100e+02, 1.2200e+03, 1.3000e+01, 2.5330e+03, 2.3300e+02,\n",
       "       1.4000e+01, 5.5300e+02, 6.0100e+02, 5.3200e+02, 6.5000e+01,\n",
       "       1.5920e+03, 8.5500e+02, 4.0000e+02, 3.8600e+02, 1.0920e+03,\n",
       "       2.5900e+02, 4.1100e+02, 8.6500e+02, 3.4710e+03, 7.2300e+02,\n",
       "       5.2500e+02, 9.4300e+02, 1.5000e+03, 3.2500e+02, 1.7080e+03,\n",
       "       2.3000e+02, 2.2700e+02, 1.7780e+03, 5.3000e+01, 4.2880e+03,\n",
       "       7.8700e+02, 3.5500e+02, 1.2510e+03, 1.2800e+02, 2.5800e+02,\n",
       "       1.2500e+02, 6.9900e+02, 2.8500e+02, 1.0900e+02, 3.0000e+01,\n",
       "       1.7540e+03, 4.3700e+02, 6.0000e+01, 2.0000e+02, 2.0000e+00,\n",
       "       4.5300e+02, 7.6900e+02, 4.6500e+02, 6.0000e+00, 5.2400e+02,\n",
       "       4.3400e+02, 3.7200e+02, 8.1700e+02, 4.7200e+02, 3.1400e+02,\n",
       "       1.6800e+02, 1.0850e+03, 1.1950e+03, 1.1180e+03, 1.4710e+03,\n",
       "       4.1600e+02, 1.7300e+02, 3.5200e+02, 3.8500e+02, 1.4820e+03,\n",
       "       2.2000e+01, 2.4100e+02, 4.9700e+02, 1.1700e+02, 5.9000e+01,\n",
       "       7.9000e+01, 3.0000e+00, 3.7900e+02, 4.2000e+01, 2.5500e+02,\n",
       "       9.9000e+01, 2.1200e+02, 6.0200e+02, 9.0000e+00, 1.6500e+02,\n",
       "       1.4600e+02, 7.0000e+00, 4.0000e+00])"
      ]
     },
     "execution_count": 25,
     "metadata": {},
     "output_type": "execute_result"
    }
   ],
   "source": [
    "df['Total_Review'].unique()"
   ]
  },
  {
   "cell_type": "code",
   "execution_count": null,
   "id": "62cf5955-ba06-4d92-8888-a945a648c87a",
   "metadata": {},
   "outputs": [],
   "source": []
  }
 ],
 "metadata": {
  "kernelspec": {
   "display_name": "Python 3 (ipykernel)",
   "language": "python",
   "name": "python3"
  },
  "language_info": {
   "codemirror_mode": {
    "name": "ipython",
    "version": 3
   },
   "file_extension": ".py",
   "mimetype": "text/x-python",
   "name": "python",
   "nbconvert_exporter": "python",
   "pygments_lexer": "ipython3",
   "version": "3.12.4"
  }
 },
 "nbformat": 4,
 "nbformat_minor": 5
}
