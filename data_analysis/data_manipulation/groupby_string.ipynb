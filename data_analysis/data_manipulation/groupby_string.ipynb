{
 "cells": [
  {
   "cell_type": "code",
   "execution_count": 1,
   "id": "3eabd95f-b3a4-4752-bd54-67a8e924c557",
   "metadata": {},
   "outputs": [
    {
     "data": {
      "text/html": [
       "<div>\n",
       "<style scoped>\n",
       "    .dataframe tbody tr th:only-of-type {\n",
       "        vertical-align: middle;\n",
       "    }\n",
       "\n",
       "    .dataframe tbody tr th {\n",
       "        vertical-align: top;\n",
       "    }\n",
       "\n",
       "    .dataframe thead th {\n",
       "        text-align: right;\n",
       "    }\n",
       "</style>\n",
       "<table border=\"1\" class=\"dataframe\">\n",
       "  <thead>\n",
       "    <tr style=\"text-align: right;\">\n",
       "      <th></th>\n",
       "      <th>date</th>\n",
       "      <th>process</th>\n",
       "      <th>factory</th>\n",
       "      <th>operator</th>\n",
       "      <th>product_id</th>\n",
       "      <th>passfail</th>\n",
       "    </tr>\n",
       "  </thead>\n",
       "  <tbody>\n",
       "    <tr>\n",
       "      <th>0</th>\n",
       "      <td>2023-02-01</td>\n",
       "      <td>P1</td>\n",
       "      <td>A2</td>\n",
       "      <td>1</td>\n",
       "      <td>A259721</td>\n",
       "      <td>P</td>\n",
       "    </tr>\n",
       "    <tr>\n",
       "      <th>1</th>\n",
       "      <td>2023-02-01</td>\n",
       "      <td>P2</td>\n",
       "      <td>A2</td>\n",
       "      <td>V</td>\n",
       "      <td>A259721</td>\n",
       "      <td>P</td>\n",
       "    </tr>\n",
       "    <tr>\n",
       "      <th>2</th>\n",
       "      <td>2023-02-01</td>\n",
       "      <td>P3</td>\n",
       "      <td>A2</td>\n",
       "      <td>Y</td>\n",
       "      <td>A259721</td>\n",
       "      <td>P</td>\n",
       "    </tr>\n",
       "    <tr>\n",
       "      <th>3</th>\n",
       "      <td>2023-02-01</td>\n",
       "      <td>P1</td>\n",
       "      <td>A2</td>\n",
       "      <td>1</td>\n",
       "      <td>A100109</td>\n",
       "      <td>P</td>\n",
       "    </tr>\n",
       "    <tr>\n",
       "      <th>4</th>\n",
       "      <td>2023-02-01</td>\n",
       "      <td>P2</td>\n",
       "      <td>A2</td>\n",
       "      <td>W</td>\n",
       "      <td>A100109</td>\n",
       "      <td>P</td>\n",
       "    </tr>\n",
       "  </tbody>\n",
       "</table>\n",
       "</div>"
      ],
      "text/plain": [
       "         date process factory operator product_id passfail\n",
       "0  2023-02-01      P1      A2        1    A259721        P\n",
       "1  2023-02-01      P2      A2        V    A259721        P\n",
       "2  2023-02-01      P3      A2        Y    A259721        P\n",
       "3  2023-02-01      P1      A2        1    A100109        P\n",
       "4  2023-02-01      P2      A2        W    A100109        P"
      ]
     },
     "execution_count": 1,
     "metadata": {},
     "output_type": "execute_result"
    }
   ],
   "source": [
    "import pandas as pd\n",
    "from pathlib import Path\n",
    "\n",
    "data_path = Path('../../data_analysis_lect/datasets/product/product.csv')\n",
    "df = pd.read_csv(data_path)\n",
    "df.head()"
   ]
  },
  {
   "cell_type": "code",
   "execution_count": 2,
   "id": "a0c25fda-2808-400f-8be6-b33be58daab5",
   "metadata": {},
   "outputs": [
    {
     "data": {
      "text/plain": [
       "0       1_V_Y\n",
       "1       1_V_Y\n",
       "2       1_V_Y\n",
       "3       1_W_Y\n",
       "4       1_W_Y\n",
       "        ...  \n",
       "1057    1_V_Y\n",
       "1058    1_V_Y\n",
       "1059    1_V_Y\n",
       "1060    1_V_Y\n",
       "1061    1_V_Y\n",
       "Name: path, Length: 1062, dtype: object"
      ]
     },
     "execution_count": 2,
     "metadata": {},
     "output_type": "execute_result"
    }
   ],
   "source": [
    "# join 메서드를 이용한 문자열 groupby\n",
    "df['path'] = df.groupby('product_id')['operator'].transform(lambda x: '_'.join(x))\n",
    "df['path']"
   ]
  },
  {
   "cell_type": "code",
   "execution_count": 3,
   "id": "a9131872-8169-4d4a-b3ea-3c444c77e9c4",
   "metadata": {},
   "outputs": [
    {
     "data": {
      "text/html": [
       "<div>\n",
       "<style scoped>\n",
       "    .dataframe tbody tr th:only-of-type {\n",
       "        vertical-align: middle;\n",
       "    }\n",
       "\n",
       "    .dataframe tbody tr th {\n",
       "        vertical-align: top;\n",
       "    }\n",
       "\n",
       "    .dataframe thead th {\n",
       "        text-align: right;\n",
       "    }\n",
       "</style>\n",
       "<table border=\"1\" class=\"dataframe\">\n",
       "  <thead>\n",
       "    <tr style=\"text-align: right;\">\n",
       "      <th></th>\n",
       "      <th>date</th>\n",
       "      <th>product_id</th>\n",
       "      <th>passfail</th>\n",
       "      <th>path</th>\n",
       "    </tr>\n",
       "  </thead>\n",
       "  <tbody>\n",
       "    <tr>\n",
       "      <th>0</th>\n",
       "      <td>2023-02-01</td>\n",
       "      <td>A259721</td>\n",
       "      <td>P</td>\n",
       "      <td>A2_1_V_Y</td>\n",
       "    </tr>\n",
       "    <tr>\n",
       "      <th>3</th>\n",
       "      <td>2023-02-01</td>\n",
       "      <td>A100109</td>\n",
       "      <td>P</td>\n",
       "      <td>A2_1_W_Y</td>\n",
       "    </tr>\n",
       "    <tr>\n",
       "      <th>6</th>\n",
       "      <td>2023-02-01</td>\n",
       "      <td>A870944</td>\n",
       "      <td>P</td>\n",
       "      <td>A2_2_W_Y</td>\n",
       "    </tr>\n",
       "    <tr>\n",
       "      <th>9</th>\n",
       "      <td>2023-02-01</td>\n",
       "      <td>A587346</td>\n",
       "      <td>P</td>\n",
       "      <td>A2_2_V_Y</td>\n",
       "    </tr>\n",
       "    <tr>\n",
       "      <th>12</th>\n",
       "      <td>2023-02-01</td>\n",
       "      <td>A525921</td>\n",
       "      <td>P</td>\n",
       "      <td>A2_2_V_X</td>\n",
       "    </tr>\n",
       "    <tr>\n",
       "      <th>...</th>\n",
       "      <td>...</td>\n",
       "      <td>...</td>\n",
       "      <td>...</td>\n",
       "      <td>...</td>\n",
       "    </tr>\n",
       "    <tr>\n",
       "      <th>1047</th>\n",
       "      <td>2023-03-31</td>\n",
       "      <td>A917956</td>\n",
       "      <td>P</td>\n",
       "      <td>A1_2_W_Y</td>\n",
       "    </tr>\n",
       "    <tr>\n",
       "      <th>1050</th>\n",
       "      <td>2023-03-31</td>\n",
       "      <td>A860621</td>\n",
       "      <td>P</td>\n",
       "      <td>A2_1_V_X</td>\n",
       "    </tr>\n",
       "    <tr>\n",
       "      <th>1053</th>\n",
       "      <td>2023-03-31</td>\n",
       "      <td>A268064</td>\n",
       "      <td>P</td>\n",
       "      <td>A2_1_V_X</td>\n",
       "    </tr>\n",
       "    <tr>\n",
       "      <th>1056</th>\n",
       "      <td>2023-03-31</td>\n",
       "      <td>A817755</td>\n",
       "      <td>P</td>\n",
       "      <td>A2_1_V_Y</td>\n",
       "    </tr>\n",
       "    <tr>\n",
       "      <th>1059</th>\n",
       "      <td>2023-03-31</td>\n",
       "      <td>A332162</td>\n",
       "      <td>P</td>\n",
       "      <td>A1_1_V_Y</td>\n",
       "    </tr>\n",
       "  </tbody>\n",
       "</table>\n",
       "<p>354 rows × 4 columns</p>\n",
       "</div>"
      ],
      "text/plain": [
       "            date product_id passfail      path\n",
       "0     2023-02-01    A259721        P  A2_1_V_Y\n",
       "3     2023-02-01    A100109        P  A2_1_W_Y\n",
       "6     2023-02-01    A870944        P  A2_2_W_Y\n",
       "9     2023-02-01    A587346        P  A2_2_V_Y\n",
       "12    2023-02-01    A525921        P  A2_2_V_X\n",
       "...          ...        ...      ...       ...\n",
       "1047  2023-03-31    A917956        P  A1_2_W_Y\n",
       "1050  2023-03-31    A860621        P  A2_1_V_X\n",
       "1053  2023-03-31    A268064        P  A2_1_V_X\n",
       "1056  2023-03-31    A817755        P  A2_1_V_Y\n",
       "1059  2023-03-31    A332162        P  A1_1_V_Y\n",
       "\n",
       "[354 rows x 4 columns]"
      ]
     },
     "execution_count": 3,
     "metadata": {},
     "output_type": "execute_result"
    }
   ],
   "source": [
    "# 각 \"product_id\" 값 당 하나의 행만 가지도록 데이터를 정리\n",
    "df['path'] = df['factory'] + '_' + df['path']\n",
    "df = df.drop_duplicates('product_id')\n",
    "df = df[['date','product_id','passfail','path']]\n",
    "df"
   ]
  },
  {
   "cell_type": "code",
   "execution_count": 4,
   "id": "fc4697d3-f1ab-449b-a2ef-c7ba04717f4a",
   "metadata": {},
   "outputs": [
    {
     "data": {
      "text/plain": [
       "passfail  path    \n",
       "F         A2_2_W_X     3\n",
       "          A2_2_V_X     3\n",
       "          A2_1_V_X     2\n",
       "          A2_1_W_X     1\n",
       "P         A1_1_V_X    32\n",
       "          A1_1_V_Y    26\n",
       "          A2_1_W_Y    24\n",
       "          A2_1_V_X    24\n",
       "          A1_1_W_Y    23\n",
       "          A1_2_W_Y    23\n",
       "          A2_2_W_X    22\n",
       "          A1_2_V_X    22\n",
       "          A1_2_V_Y    22\n",
       "          A2_2_W_Y    21\n",
       "          A2_1_V_Y    20\n",
       "          A2_1_W_X    20\n",
       "          A2_2_V_Y    17\n",
       "          A1_1_W_X    17\n",
       "          A2_2_V_X    16\n",
       "          A1_2_W_X    16\n",
       "Name: count, dtype: int64"
      ]
     },
     "execution_count": 4,
     "metadata": {},
     "output_type": "execute_result"
    }
   ],
   "source": [
    "# passfail 변수의 그룹화를 통해 path의 고유값과 빈도수 확인\n",
    "df.groupby('passfail')['path'].value_counts()\n"
   ]
  },
  {
   "cell_type": "code",
   "execution_count": 5,
   "id": "c8800d76-304a-49d8-a996-fc80ca1702a4",
   "metadata": {},
   "outputs": [
    {
     "data": {
      "text/plain": [
       "passfail  date      \n",
       "F         2023-03-10    3\n",
       "          2023-03-12    2\n",
       "          2023-03-11    2\n",
       "          2023-03-09    2\n",
       "P         2023-02-28    6\n",
       "                       ..\n",
       "          2023-02-22    6\n",
       "          2023-03-12    4\n",
       "          2023-03-11    4\n",
       "          2023-03-09    4\n",
       "          2023-03-10    3\n",
       "Name: count, Length: 63, dtype: int64"
      ]
     },
     "execution_count": 5,
     "metadata": {},
     "output_type": "execute_result"
    }
   ],
   "source": [
    "\n",
    "# passfail 변수의 그룹화를 통해 date의 고유값과 빈도수 확인\n",
    "df.groupby(['passfail'])['date'].value_counts()"
   ]
  },
  {
   "cell_type": "code",
   "execution_count": null,
   "id": "aca3ba73-58a1-48bf-98c3-fa9f1a3c6629",
   "metadata": {},
   "outputs": [],
   "source": []
  }
 ],
 "metadata": {
  "kernelspec": {
   "display_name": "Python 3 (ipykernel)",
   "language": "python",
   "name": "python3"
  },
  "language_info": {
   "codemirror_mode": {
    "name": "ipython",
    "version": 3
   },
   "file_extension": ".py",
   "mimetype": "text/x-python",
   "name": "python",
   "nbconvert_exporter": "python",
   "pygments_lexer": "ipython3",
   "version": "3.12.4"
  }
 },
 "nbformat": 4,
 "nbformat_minor": 5
}
