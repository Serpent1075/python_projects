{
 "cells": [
  {
   "cell_type": "code",
   "execution_count": null,
   "id": "d801a9bf-b240-4290-8383-248a28c42240",
   "metadata": {},
   "outputs": [],
   "source": [
    "import pandas as pd\n",
    "from pathlib import Path\n",
    "\n",
    "data_path = Path('../data_analysis/datasets/bookings/Bookings.csv')\n",
    "df = pd.read_csv(data_path)\n",
    "df.info()\n",
    "\n",
    "# bookings 데이터셋에서 \"Review\" 열이 결측치인 행의 상위 5개 인덱스 호출\n",
    "index = df[df['Rating'].isna()].head(5).index\n",
    "index\n",
    "\n",
    "# 해당 열의 평균값으로 결측치를 대체\n",
    "df['Rating'] = df['Rating'].fillna(df['Rating'].mean())\n",
    "\n",
    "# \"Rating\"열이 결측치였던 인덱스를 재호출\n",
    "df.loc[index, 'Rating']\n",
    "\n",
    "# 결측치를 포함하는 간단한 Pandas Series를 생성\n",
    "import numpy as np\n",
    "s = pd.Series([1, np.nan, np.nan,2, np.nan, 3])\n",
    "s\n",
    "\n",
    "# 결측치 이전에 있던 값으로 결측치를 대체\n",
    "#s.fillna(method='ffill') Pandas 버전 1.4.0 부터 아래 표현으로 대체됨\n",
    "s_filled = s.ffill()  # 이전 값으로 채우기\n",
    "print(s_filled)\n",
    "\n",
    "# 결측치 이후에 나오는 값으로 이전 결측치를 대체\n",
    "#s.fillna(method='bfill')  Pandas 버전 1.4.0 부터 아래 표현으로 대체됨\n",
    "s_bfilled = s.bfill()\n",
    "print(s_bfilled)\n",
    "\n",
    "# dropna 메서드를 이용한 결측치 제거\n",
    "data_path = Path('../data_analysis/datasets/bookings/Bookings.csv')\n",
    "df = pd.read_csv(data_path)\n",
    "df = df.dropna()\n",
    "df.info()\n",
    "\n",
    "data_path = Path('../data_analysis/datasets/bookings/Bookings.csv')\n",
    "df = pd.read_csv(data_path)\n",
    "df = df.dropna(subset='Review', axis=0) # Review 열에 있는 결측치만 판단\n",
    "df.info()\n",
    "df['Review'].isna().sum()"
   ]
  },
  {
   "cell_type": "code",
   "execution_count": 2,
   "id": "acfff5a3-8aa6-495a-b3f3-ee7c1c58b26e",
   "metadata": {},
   "outputs": [
    {
     "name": "stdout",
     "output_type": "stream",
     "text": [
      "<class 'pandas.core.frame.DataFrame'>\n",
      "RangeIndex: 525 entries, 0 to 524\n",
      "Data columns (total 5 columns):\n",
      " #   Column        Non-Null Count  Dtype  \n",
      "---  ------        --------------  -----  \n",
      " 0   Hotel_Name    525 non-null    object \n",
      " 1   Review        325 non-null    object \n",
      " 2   Total_Review  325 non-null    object \n",
      " 3   Rating        315 non-null    float64\n",
      " 4   Location      525 non-null    object \n",
      "dtypes: float64(1), object(4)\n",
      "memory usage: 20.6+ KB\n"
     ]
    },
    {
     "data": {
      "text/plain": [
       "Index([167, 168, 169, 170, 171], dtype='int64')"
      ]
     },
     "execution_count": 2,
     "metadata": {},
     "output_type": "execute_result"
    }
   ],
   "source": [
    "import pandas as pd\n",
    "from pathlib import Path\n",
    "\n",
    "data_path = Path('../data_analysis/datasets/bookings/Bookings.csv')\n",
    "df = pd.read_csv(data_path)\n",
    "df.info()\n",
    "\n",
    "# bookings 데이터셋에서 \"Review\" 열이 결측치인 행의 상위 5개 인덱스 호출\n",
    "index = df[df['Rating'].isna()].head(5).index\n",
    "index"
   ]
  },
  {
   "cell_type": "code",
   "execution_count": 5,
   "id": "14c52ad5-86e7-4112-87e9-f2aaf244d085",
   "metadata": {},
   "outputs": [
    {
     "data": {
      "text/plain": [
       "167    7.883492\n",
       "168    7.883492\n",
       "169    7.883492\n",
       "170    7.883492\n",
       "171    7.883492\n",
       "Name: Rating, dtype: float64"
      ]
     },
     "execution_count": 5,
     "metadata": {},
     "output_type": "execute_result"
    }
   ],
   "source": [
    "# 해당 열의 평균값으로 결측치를 대체\n",
    "df['Rating'] = df['Rating'].fillna(df['Rating'].mean())\n",
    "\n",
    "# \"Rating\"열이 결측치였던 인덱스를 재호출\n",
    "df.loc[index, 'Rating']"
   ]
  },
  {
   "cell_type": "code",
   "execution_count": 3,
   "id": "ab001564-90f1-4b24-ad2d-f25424721852",
   "metadata": {},
   "outputs": [
    {
     "data": {
      "text/plain": [
       "0    1.0\n",
       "1    NaN\n",
       "2    NaN\n",
       "3    2.0\n",
       "4    NaN\n",
       "5    3.0\n",
       "dtype: float64"
      ]
     },
     "execution_count": 3,
     "metadata": {},
     "output_type": "execute_result"
    }
   ],
   "source": [
    "import numpy as np\n",
    "s = pd.Series([1, np.nan, np.nan,2, np.nan, 3])\n",
    "s"
   ]
  },
  {
   "cell_type": "code",
   "execution_count": 10,
   "id": "1e8c602c-6ee0-4b07-8691-e9262d0ef50f",
   "metadata": {},
   "outputs": [
    {
     "name": "stdout",
     "output_type": "stream",
     "text": [
      "0    1.0\n",
      "1    1.0\n",
      "2    1.0\n",
      "3    2.0\n",
      "4    2.0\n",
      "5    3.0\n",
      "dtype: float64\n"
     ]
    }
   ],
   "source": [
    "s_filled = s.ffill()  # 이전 값으로 채우기\n",
    "print(s_filled)"
   ]
  },
  {
   "cell_type": "code",
   "execution_count": 11,
   "id": "5cb85b3d-fab3-4dc2-b642-73f3132cd36d",
   "metadata": {},
   "outputs": [
    {
     "name": "stdout",
     "output_type": "stream",
     "text": [
      "0    1.0\n",
      "1    2.0\n",
      "2    2.0\n",
      "3    2.0\n",
      "4    3.0\n",
      "5    3.0\n",
      "dtype: float64\n"
     ]
    }
   ],
   "source": [
    "s_bfilled = s.bfill()\n",
    "print(s_bfilled)"
   ]
  },
  {
   "cell_type": "code",
   "execution_count": 13,
   "id": "3a3dfca3-8dae-4d8b-adf3-3cf73bd478f3",
   "metadata": {},
   "outputs": [
    {
     "name": "stdout",
     "output_type": "stream",
     "text": [
      "<class 'pandas.core.frame.DataFrame'>\n",
      "Index: 307 entries, 0 to 333\n",
      "Data columns (total 5 columns):\n",
      " #   Column        Non-Null Count  Dtype  \n",
      "---  ------        --------------  -----  \n",
      " 0   Hotel_Name    307 non-null    object \n",
      " 1   Review        307 non-null    object \n",
      " 2   Total_Review  307 non-null    object \n",
      " 3   Rating        307 non-null    float64\n",
      " 4   Location      307 non-null    object \n",
      "dtypes: float64(1), object(4)\n",
      "memory usage: 14.4+ KB\n"
     ]
    }
   ],
   "source": [
    "data_path = Path('../data_analysis/datasets/bookings/Bookings.csv')\n",
    "df = pd.read_csv(data_path)\n",
    "df = df.dropna()\n",
    "df.info()"
   ]
  },
  {
   "cell_type": "code",
   "execution_count": 16,
   "id": "60fe76a5-2ed5-49ef-ab6c-cc8ea9fff9c8",
   "metadata": {},
   "outputs": [
    {
     "name": "stdout",
     "output_type": "stream",
     "text": [
      "<class 'pandas.core.frame.DataFrame'>\n",
      "Index: 325 entries, 0 to 343\n",
      "Data columns (total 5 columns):\n",
      " #   Column        Non-Null Count  Dtype  \n",
      "---  ------        --------------  -----  \n",
      " 0   Hotel_Name    325 non-null    object \n",
      " 1   Review        325 non-null    object \n",
      " 2   Total_Review  317 non-null    object \n",
      " 3   Rating        307 non-null    float64\n",
      " 4   Location      325 non-null    object \n",
      "dtypes: float64(1), object(4)\n",
      "memory usage: 15.2+ KB\n"
     ]
    },
    {
     "data": {
      "text/plain": [
       "0"
      ]
     },
     "execution_count": 16,
     "metadata": {},
     "output_type": "execute_result"
    }
   ],
   "source": [
    "data_path = Path('../data_analysis/datasets/bookings/Bookings.csv')\n",
    "df = pd.read_csv(data_path)\n",
    "df = df.dropna(subset='Review', axis=0) # Review 열에 있는 결측치만 판단\n",
    "df.info()\n",
    "df['Review'].isna().sum()"
   ]
  },
  {
   "cell_type": "code",
   "execution_count": null,
   "id": "50afef14-d030-44a9-a771-a66de5a267a1",
   "metadata": {},
   "outputs": [],
   "source": []
  }
 ],
 "metadata": {
  "kernelspec": {
   "display_name": "Python 3 (ipykernel)",
   "language": "python",
   "name": "python3"
  },
  "language_info": {
   "codemirror_mode": {
    "name": "ipython",
    "version": 3
   },
   "file_extension": ".py",
   "mimetype": "text/x-python",
   "name": "python",
   "nbconvert_exporter": "python",
   "pygments_lexer": "ipython3",
   "version": "3.12.4"
  }
 },
 "nbformat": 4,
 "nbformat_minor": 5
}
