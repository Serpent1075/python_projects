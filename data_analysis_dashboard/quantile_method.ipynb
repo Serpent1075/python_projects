{
 "cells": [
  {
   "cell_type": "code",
   "execution_count": 1,
   "id": "9bfce609-a96e-4ac0-949a-e66e7ad7ca4c",
   "metadata": {},
   "outputs": [
    {
     "name": "stdout",
     "output_type": "stream",
     "text": [
      "quantile(0) is 1.0\n",
      "quantile(0.2) is 227.0\n",
      "quantile(0.4) is 657.0\n",
      "quantile(0.6) is 1169.0\n",
      "quantile(0.8) is 2620.0\n",
      "quantile(1) is 16148.0\n",
      "quantile(0) is 1.0\n",
      "quantile(0.2) is 230.0\n",
      "quantile(0.4) is 663.0\n",
      "quantile(0.6) is 1169.0\n",
      "quantile(0.8) is 2620.0\n",
      "quantile(1) is 16148.0\n"
     ]
    }
   ],
   "source": [
    "# booking 데이터셋을 불러와 total review 열의 값 수정\n",
    "# quantil method: 0부터 1사이의 분위수 값을 인자로 전달\n",
    "# interpolation 인자에 linear, lower, higher, nearest, midpoint 전달 가능 (기본값은 linear)\n",
    "import pandas as pd\n",
    "from pathlib import Path\n",
    "\n",
    "data_path = Path('../data_analysis/datasets/bookings/Bookings.csv')\n",
    "df = pd.read_csv(data_path)\n",
    "\n",
    "df['Total_Review'] = df['Total_Review'].map(lambda x: str(x).replace('external','').strip())\n",
    "df['Total_Review'] = df['Total_Review'].map(lambda x: str(x).replace('review','').strip())\n",
    "df['Total_Review'] = df['Total_Review'].map(lambda x: str(x).replace(',',''))\n",
    "df['Total_Review'] = df['Total_Review'].astype('float')\n",
    "\n",
    "# Total review 열의 값을 0부터 1까지의 0.2 단위 분위수 구하기\n",
    "quantile = [0, 0.2, 0.4, 0.6, 0.8, 1]\n",
    "\n",
    "for idx in quantile:\n",
    "    q = df['Total_Review'].quantile(idx, interpolation='lower')\n",
    "    print(f'quantile({idx}) is {q}')\n",
    "    \n",
    "# quantile 메서드의 interpolation 인자 수정\n",
    "for idx in quantile:\n",
    "    q = df['Total_Review'].quantile(idx, interpolation='nearest')\n",
    "    print(f'quantile({idx}) is {q}')"
   ]
  },
  {
   "cell_type": "code",
   "execution_count": 2,
   "id": "d8b98fd1-b8f4-4d2c-b462-90b8d2b97804",
   "metadata": {},
   "outputs": [
    {
     "name": "stdout",
     "output_type": "stream",
     "text": [
      "quantile(0) is 1.0\n",
      "quantile(0.2) is 227.0\n",
      "quantile(0.4) is 657.0\n",
      "quantile(0.6) is 1169.0\n",
      "quantile(0.8) is 2620.0\n",
      "quantile(1) is 16148.0\n"
     ]
    }
   ],
   "source": [
    "for idx in quantile:\n",
    "    q = df['Total_Review'].quantile(idx, interpolation='lower')\n",
    "    print(f'quantile({idx}) is {q}')"
   ]
  },
  {
   "cell_type": "code",
   "execution_count": 3,
   "id": "70fdecda-5083-4608-91f8-2bb88a3a8506",
   "metadata": {},
   "outputs": [
    {
     "name": "stdout",
     "output_type": "stream",
     "text": [
      "quantile(0) is 1.0\n",
      "quantile(0.2) is 230.0\n",
      "quantile(0.4) is 663.0\n",
      "quantile(0.6) is 1169.0\n",
      "quantile(0.8) is 2620.0\n",
      "quantile(1) is 16148.0\n"
     ]
    }
   ],
   "source": [
    "for idx in quantile:\n",
    "    q = df['Total_Review'].quantile(idx, interpolation='nearest')\n",
    "    print(f'quantile({idx}) is {q}')"
   ]
  },
  {
   "cell_type": "code",
   "execution_count": 4,
   "id": "7bb536b4-ee1f-40a7-9e4f-035ffb47725c",
   "metadata": {},
   "outputs": [
    {
     "name": "stdout",
     "output_type": "stream",
     "text": [
      "quantile(0) is 1.0\n",
      "quantile(0.2) is 229.39999999999998\n",
      "quantile(0.4) is 660.5999999999999\n",
      "quantile(0.6) is 1173.4\n",
      "quantile(0.8) is 2620.6\n",
      "quantile(1) is 16148.0\n"
     ]
    }
   ],
   "source": [
    "for idx in quantile:\n",
    "    q = df['Total_Review'].quantile(idx, interpolation='linear')\n",
    "    print(f'quantile({idx}) is {q}')"
   ]
  },
  {
   "cell_type": "code",
   "execution_count": 6,
   "id": "0254a7f1-40bd-454e-a7c1-af2c2a0abd46",
   "metadata": {},
   "outputs": [
    {
     "name": "stdout",
     "output_type": "stream",
     "text": [
      "quantile(0) is 1.0\n",
      "quantile(0.2) is 230.0\n",
      "quantile(0.4) is 663.0\n",
      "quantile(0.6) is 1180.0\n",
      "quantile(0.8) is 2623.0\n",
      "quantile(1) is 16148.0\n"
     ]
    }
   ],
   "source": [
    "for idx in quantile:\n",
    "    q = df['Total_Review'].quantile(idx, interpolation='higher')\n",
    "    print(f'quantile({idx}) is {q}')"
   ]
  },
  {
   "cell_type": "code",
   "execution_count": 7,
   "id": "74ec96f5-4a62-484d-a90d-4eca9025bb37",
   "metadata": {},
   "outputs": [
    {
     "name": "stdout",
     "output_type": "stream",
     "text": [
      "quantile(0) is 1.0\n",
      "quantile(0.2) is 228.5\n",
      "quantile(0.4) is 660.0\n",
      "quantile(0.6) is 1174.5\n",
      "quantile(0.8) is 2621.5\n",
      "quantile(1) is 16148.0\n"
     ]
    }
   ],
   "source": [
    "for idx in quantile:\n",
    "    q = df['Total_Review'].quantile(idx, interpolation='midpoint')\n",
    "    print(f'quantile({idx}) is {q}')"
   ]
  },
  {
   "cell_type": "code",
   "execution_count": null,
   "id": "db7ba947-78a7-4d0d-87b7-b0c0126a6d4d",
   "metadata": {},
   "outputs": [],
   "source": []
  }
 ],
 "metadata": {
  "kernelspec": {
   "display_name": "Python 3 (ipykernel)",
   "language": "python",
   "name": "python3"
  },
  "language_info": {
   "codemirror_mode": {
    "name": "ipython",
    "version": 3
   },
   "file_extension": ".py",
   "mimetype": "text/x-python",
   "name": "python",
   "nbconvert_exporter": "python",
   "pygments_lexer": "ipython3",
   "version": "3.12.4"
  }
 },
 "nbformat": 4,
 "nbformat_minor": 5
}
